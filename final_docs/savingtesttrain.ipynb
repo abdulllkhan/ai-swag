{
 "cells": [
  {
   "cell_type": "code",
   "execution_count": 2,
   "id": "990d6080-5503-402a-894a-3dfebebb83b1",
   "metadata": {},
   "outputs": [],
   "source": [
    "'''ResNet in PyTorch.\n",
    "\n",
    "For Pre-activation ResNet, see 'preact_resnet.py'.\n",
    "\n",
    "Reference:\n",
    "[1] Kaiming He, Xiangyu Zhang, Shaoqing Ren, Jian Sun\n",
    "    Deep Residual Learning for Image Recognition. arXiv:1512.03385\n",
    "'''\n",
    "import torch\n",
    "import torch.nn as nn\n",
    "import torch.nn.functional as F"
   ]
  },
  {
   "cell_type": "code",
   "execution_count": 3,
   "id": "330db226-cb67-4df6-aa8b-4ac48f55aaaa",
   "metadata": {},
   "outputs": [],
   "source": [
    "class BasicBlock(nn.Module):\n",
    "    expansion = 1\n",
    "\n",
    "    def __init__(self, in_planes, planes, stride=1, prob_dropout=0.3):\n",
    "        super(BasicBlock, self).__init__()\n",
    "        self.conv1 = nn.Conv2d(\n",
    "            in_planes, planes, kernel_size=3, stride=stride, padding=1, bias=False)\n",
    "        self.bn1 = nn.BatchNorm2d(planes)\n",
    "\n",
    "        # mod here\n",
    "        self.dropout1 = nn.Dropout2d(p=prob_dropout)\n",
    "        \n",
    "        self.conv2 = nn.Conv2d(planes, planes, kernel_size=3,\n",
    "                               stride=1, padding=1, bias=False)\n",
    "        self.bn2 = nn.BatchNorm2d(planes)\n",
    "        \n",
    "\n",
    "        # mod here\n",
    "        self.dropout2 = nn.Dropout2d(p=prob_dropout)\n",
    "\n",
    "        self.shortcut = nn.Sequential()\n",
    "        if stride != 1 or in_planes != self.expansion*planes:\n",
    "            self.shortcut = nn.Sequential(\n",
    "                nn.Conv2d(in_planes, self.expansion*planes,\n",
    "                          kernel_size=1, stride=stride, bias=False),\n",
    "                nn.BatchNorm2d(self.expansion*planes)\n",
    "            )\n",
    "\n",
    "    def forward(self, x):\n",
    "        \n",
    "        out = F.relu(self.bn1(self.conv1(x)))\n",
    "        out = self.bn2(self.conv2(out))\n",
    "        out += self.shortcut(x)\n",
    "        out = F.relu(out)\n",
    "        return out"
   ]
  },
  {
   "cell_type": "code",
   "execution_count": 4,
   "id": "570daf53-1a92-48c4-b319-ca449bfa31cd",
   "metadata": {},
   "outputs": [],
   "source": [
    "class Bottleneck(nn.Module):\n",
    "    expansion = 4\n",
    "\n",
    "    def __init__(self, in_planes, planes, stride=1):\n",
    "        super(Bottleneck, self).__init__()\n",
    "        self.conv1 = nn.Conv2d(in_planes, planes, kernel_size=1, bias=False)\n",
    "        self.bn1 = nn.BatchNorm2d(planes)\n",
    "        self.conv2 = nn.Conv2d(planes, planes, kernel_size=3,\n",
    "                               stride=stride, padding=1, bias=False)\n",
    "        self.bn2 = nn.BatchNorm2d(planes)\n",
    "        self.conv3 = nn.Conv2d(planes, self.expansion *\n",
    "                               planes, kernel_size=1, bias=False)\n",
    "        self.bn3 = nn.BatchNorm2d(self.expansion*planes)\n",
    "\n",
    "        self.shortcut = nn.Sequential()\n",
    "        if stride != 1 or in_planes != self.expansion*planes:\n",
    "            self.shortcut = nn.Sequential(\n",
    "                nn.Conv2d(in_planes, self.expansion*planes,\n",
    "                          kernel_size=1, stride=stride, bias=False),\n",
    "                nn.BatchNorm2d(self.expansion*planes)\n",
    "            )\n",
    "\n",
    "    def forward(self, x):\n",
    "        out = F.relu(self.bn1(self.conv1(x)))\n",
    "        out = F.relu(self.bn2(self.conv2(out)))\n",
    "        out = self.bn3(self.conv3(out))\n",
    "        out += self.shortcut(x)\n",
    "        out = F.relu(out)\n",
    "        return out"
   ]
  },
  {
   "cell_type": "code",
   "execution_count": 5,
   "id": "34be3e7e-ca24-4efc-b485-9b26d1e12180",
   "metadata": {},
   "outputs": [],
   "source": [
    "class ResNet(nn.Module):\n",
    "    def __init__(self, block, num_blocks, num_classes=10):\n",
    "        super(ResNet, self).__init__()\n",
    "        self.in_planes = 64\n",
    "\n",
    "        self.conv1 = nn.Conv2d(3, 64, kernel_size=3,\n",
    "                               stride=1, padding=1, bias=False)\n",
    "        self.bn1 = nn.BatchNorm2d(64)\n",
    "        self.layer1 = self._make_layer(block, 64, num_blocks[0], stride=1)\n",
    "        self.layer2 = self._make_layer(block, 128, num_blocks[1], stride=2)\n",
    "        self.layer3 = self._make_layer(block, 256, num_blocks[2], stride=2)\n",
    "        self.layer4 = self._make_layer(block, 512, num_blocks[3], stride=2)\n",
    "        self.linear = nn.Linear(512*block.expansion, num_classes)\n",
    "\n",
    "    def _make_layer(self, block, planes, num_blocks, stride):\n",
    "        strides = [stride] + [1]*(num_blocks-1)\n",
    "        layers = []\n",
    "        for stride in strides:\n",
    "            layers.append(block(self.in_planes, planes, stride))\n",
    "            self.in_planes = planes * block.expansion\n",
    "        return nn.Sequential(*layers)\n",
    "\n",
    "    def forward(self, x):\n",
    "        out = F.relu(self.bn1(self.conv1(x)))\n",
    "        out = self.layer1(out)\n",
    "        out = self.layer2(out)\n",
    "        out = self.layer3(out)\n",
    "        out = self.layer4(out)\n",
    "        out = F.avg_pool2d(out, 4)\n",
    "        out = out.view(out.size(0), -1)\n",
    "        out = self.linear(out)\n",
    "        return out\n"
   ]
  },
  {
   "cell_type": "code",
   "execution_count": 6,
   "id": "38ace49f-91f7-482c-b673-e72911746be2",
   "metadata": {},
   "outputs": [
    {
     "name": "stdout",
     "output_type": "stream",
     "text": [
      "done\n"
     ]
    }
   ],
   "source": [
    "def ResNet9():\n",
    "    return ResNet(BasicBlock, [1, 1, 1, 1])\n",
    "    \n",
    "def ResNet18():\n",
    "    return ResNet(BasicBlock, [2, 2, 2, 2])\n",
    "\n",
    "\n",
    "# def ResNet34():\n",
    "#     return ResNet(BasicBlock, [3, 4, 6, 3])\n",
    "\n",
    "\n",
    "# def ResNet50():\n",
    "#     return ResNet(Bottleneck, [3, 4, 6, 3])\n",
    "\n",
    "\n",
    "# def ResNet101():\n",
    "#     return ResNet(Bottleneck, [3, 4, 23, 3])\n",
    "\n",
    "\n",
    "# def ResNet152():\n",
    "#     return ResNet(Bottleneck, [3, 8, 36, 3])\n",
    "\n",
    "\n",
    "# def test():\n",
    "#     net = ResNet18()\n",
    "#     y = net(torch.randn(1, 3, 32, 32))\n",
    "#     print(y.size())\n",
    "\n",
    "# test()\n",
    "\n",
    "print(\"done\")"
   ]
  },
  {
   "cell_type": "code",
   "execution_count": 7,
   "id": "16000d33-3332-4a32-adb6-c1172227b6a6",
   "metadata": {},
   "outputs": [],
   "source": [
    "from torchvision import transforms, datasets\n",
    "import torch.utils.data\n",
    "from torchvision.transforms import ToTensor\n"
   ]
  },
  {
   "cell_type": "code",
   "execution_count": 8,
   "id": "decb3db4-d33b-49cc-ab21-b1a8573ed8a6",
   "metadata": {},
   "outputs": [
    {
     "name": "stdout",
     "output_type": "stream",
     "text": [
      "Files already downloaded and verified\n",
      "Files already downloaded and verified\n",
      "done\n"
     ]
    }
   ],
   "source": [
    "torch.manual_seed(1024)\n",
    "# Define transformations to be applied on the training dataset\n",
    "train_transform = transforms.Compose([\n",
    "    transforms.ColorJitter(brightness=0.1, contrast=0.1, saturation=0.1, hue=0.1), # Add color jitter\n",
    "    transforms.RandomHorizontalFlip(), #apply horizontal flipping\n",
    "    transforms.RandomCrop(32, padding=4),\n",
    "    transforms.RandomHorizontalFlip(), # Randomly flip the images on the horizontal axis\n",
    "    transforms.RandomRotation(10), # Randomly rotate the images by +/- 10 degrees\n",
    "    transforms.RandomCrop(32, padding=4), # Apply random crops\n",
    "    transforms.ToTensor(), # Convert images to PyTorch tensors\n",
    "    transforms.Normalize((0.5, 0.5, 0.5), (0.5, 0.5, 0.5)), # Normalize images\n",
    "])\n",
    "\n",
    "# Define transformations to be applied on the testing dataset \n",
    "test_transform = transforms.Compose([\n",
    "    transforms.ToTensor(),\n",
    "    transforms.Normalize((0.5, 0.5, 0.5), (0.5, 0.5, 0.5)),\n",
    "])\n",
    "\n",
    "# Import the datasets and transform it\n",
    "train_dataset = datasets.CIFAR10(root='./data', train=True, download=True, transform=train_transform)\n",
    "test_dataset = datasets.CIFAR10(root='./data', train=False, download=True, transform=test_transform)\n",
    "\n",
    "# Define the batch size for training\n",
    "batch_size = 16\n",
    "\n",
    "# Create DataLoader\n",
    "trainDataLoader = torch.utils.data.DataLoader(train_dataset, batch_size=batch_size, shuffle=True)\n",
    "testDataLoader = torch.utils.data.DataLoader(test_dataset, batch_size=batch_size, shuffle=True)\n",
    "\n",
    "# for batch in train_loader:\n",
    "#     print(batch)\n",
    "print(\"done\")"
   ]
  },
  {
   "cell_type": "code",
   "execution_count": 9,
   "id": "83698a89-0cf3-4a26-90dc-81d0996ecb9b",
   "metadata": {},
   "outputs": [
    {
     "data": {
      "text/plain": [
       "<torch._C.Generator at 0x14f8511f2cd0>"
      ]
     },
     "execution_count": 9,
     "metadata": {},
     "output_type": "execute_result"
    }
   ],
   "source": [
    "# Import all the necessary libraries\n",
    "\n",
    "import torch\n",
    "import torchvision\n",
    "import torchvision.transforms as transforms\n",
    "import torch.nn as nn\n",
    "import torch.optim as optim\n",
    "import numpy as np\n",
    "import pickle\n",
    "from PIL import Image\n",
    "import matplotlib.pyplot as plt\n",
    "\n",
    "# Set a manual seed for reproducibility\n",
    "torch.manual_seed(1024)"
   ]
  },
  {
   "cell_type": "code",
   "execution_count": 10,
   "id": "da1b52ff-c911-4746-a803-cdaa7e8e3dd3",
   "metadata": {},
   "outputs": [],
   "source": [
    "# Function used to calculate the accuracy on the cifar_no_labels dataset\n",
    "def calculate_accuracy(predictions):\n",
    "    actual = []\n",
    "    pattern = [8, 2, 9, 0, 4, 3, 6, 1, 7, 5]\n",
    "    for num in pattern:\n",
    "        actual.extend([num] * 1000)\n",
    "    num_matches = sum(1 for pred, act in zip(predictions, actual) if pred == act)\n",
    "    accuracy = (num_matches / len(predictions)) * 100\n",
    "    return accuracy"
   ]
  },
  {
   "cell_type": "code",
   "execution_count": 11,
   "id": "f37ea0db-40c6-4def-a684-288622d45d10",
   "metadata": {},
   "outputs": [],
   "source": [
    "# Function to load and transform the cifar_no_labels dataset \n",
    "def load_kaggle_data(file, transform=None):\n",
    "    import pickle\n",
    "    with open(file, 'rb') as fo:\n",
    "        batch = pickle.load(fo, encoding='bytes')\n",
    "    images = batch[b'data']\n",
    "    images = images.reshape((-1, 3, 32, 32)).transpose(0, 2, 3, 1)\n",
    "    min_val = np.min(images)\n",
    "    max_val = np.max(images)\n",
    "    images = (images - min_val) / (max_val - min_val) #normalizing facepalm\n",
    "    processed_images=[]\n",
    "    for i,image in enumerate(images):\n",
    "        pil_image = Image.fromarray((image * 255).astype(np.uint8))\n",
    "        # Apply transformation\n",
    "        pil_image = transform(pil_image)\n",
    "        \n",
    "        # Append transformed image\n",
    "        processed_images.append(pil_image)\n",
    "    return processed_images"
   ]
  },
  {
   "cell_type": "code",
   "execution_count": 12,
   "id": "91d3bee5-721e-4379-b4ac-b135ed3b6419",
   "metadata": {},
   "outputs": [
    {
     "name": "stdout",
     "output_type": "stream",
     "text": [
      "10000\n"
     ]
    }
   ],
   "source": [
    "# Tranformation to be applied on the cifar_test_nolabels.pkl dataset\n",
    "kaggle_transform = transforms.Compose([\n",
    "    transforms.ToTensor(), \n",
    "    transforms.Normalize((0.5, 0.5, 0.5), (0.5, 0.5, 0.5))\n",
    "])\n",
    "\n",
    "# Loading the cifar_test_nolabels images and transforming as needed\n",
    "test_images = load_kaggle_data('kaggle/cifar_test_nolabels.pkl', transform=kaggle_transform)\n",
    "kaggleLoader = torch.utils.data.DataLoader(test_images, batch_size=1,shuffle=False)\n",
    "print(len(kaggleLoader))"
   ]
  },
  {
   "cell_type": "code",
   "execution_count": 13,
   "id": "a45abe13-8676-4acf-a2c5-815b19f18a49",
   "metadata": {},
   "outputs": [],
   "source": [
    "import torch.optim.lr_scheduler as lr_scheduler\n",
    "\n",
    "# Initialize empty lists to store training and test loss history\n",
    "train_loss_history = []\n",
    "test_loss_history = []\n",
    "train_accuracy_history = []\n",
    "test_accuracy_history = []\n",
    "\n",
    "no_label_accuracy_history = []\n",
    "\n",
    "# Initialize variables to track accuracy\n",
    "matches = 0\n",
    "total = 0\n",
    "\n",
    "# Initialize the best Kaggle accuracy and learning rate\n",
    "best_kagg_acc = 0.0\n",
    "lr_best = -1\n",
    "\n",
    "# Define a list of learning rates to try (commented out for now)\n",
    "# lr_arr = [.003, .005, 0.0001, 0.0005, 0.0002, 0.0003, 0.0004, 0.005, 0.008]\n",
    "\n",
    "# Iterate through the learning rates (commented out for now)\n",
    "# for learn_rate in lr_arr[:2]:\n",
    "\n",
    "# Set the learning rate (using a fixed value for now)\n",
    "learn_rate = .004"
   ]
  },
  {
   "cell_type": "code",
   "execution_count": 14,
   "id": "da191166-0de7-499f-82bb-433bd9c7ed2b",
   "metadata": {},
   "outputs": [],
   "source": [
    "# Set the number of training epochs\n",
    "num_epochs = 60"
   ]
  },
  {
   "cell_type": "code",
   "execution_count": 15,
   "id": "f93d6718-2211-4a17-8199-c7b667279aae",
   "metadata": {},
   "outputs": [],
   "source": [
    "# Initialize model, loss function, optimizer, and learning rate scheduler\n",
    "model = ResNet9().cuda() # .cuda to train on the GPU\n",
    "loss = torch.nn.CrossEntropyLoss() \n",
    "optimizer = torch.optim.SGD(model.parameters(), lr=learn_rate, momentum=0.9, weight_decay=1e-5)\n",
    "scheduler = lr_scheduler.CosineAnnealingLR(optimizer, T_max=num_epochs)  # T_max is typically set to the number of epochs"
   ]
  },
  {
   "cell_type": "code",
   "execution_count": 16,
   "id": "5f55c7b3-0d22-47d4-8df1-1a58e6900832",
   "metadata": {},
   "outputs": [
    {
     "name": "stdout",
     "output_type": "stream",
     "text": [
      "Beginning training arc now!~~~ \n",
      "\n",
      "Epoch 0, Train loss 1.565065152053833, Train accuracy 0.429, Test loss 1.4097601428985596, Test accuracy 0.502, NoLabel Accuracy 17.11\n",
      "Epoch 1, Train loss 1.1578211816215516, Train accuracy 0.58694, Test loss 1.187808895111084, Test accuracy 0.5829, NoLabel Accuracy 28.83\n",
      "Epoch 2, Train loss 0.9826439865589142, Train accuracy 0.6525, Test loss 1.0514758522987366, Test accuracy 0.6435, NoLabel Accuracy 22.509999999999998\n",
      "Epoch 3, Train loss 0.8553131859731674, Train accuracy 0.70014, Test loss 0.9139261562108993, Test accuracy 0.6875, NoLabel Accuracy 35.06\n",
      "Epoch 4, Train loss 0.7726250850772858, Train accuracy 0.72884, Test loss 0.8589714540958404, Test accuracy 0.7147, NoLabel Accuracy 36.25\n",
      "Epoch 5, Train loss 0.7130328175830841, Train accuracy 0.75164, Test loss 0.7514945923805236, Test accuracy 0.7394, NoLabel Accuracy 38.76\n",
      "Epoch 6, Train loss 0.6559436442351341, Train accuracy 0.77198, Test loss 0.7745088212013245, Test accuracy 0.7364, NoLabel Accuracy 37.980000000000004\n",
      "Epoch 7, Train loss 0.6150526032543182, Train accuracy 0.7879, Test loss 0.7079473152637482, Test accuracy 0.7578, NoLabel Accuracy 40.71\n",
      "Epoch 8, Train loss 0.5791047469520569, Train accuracy 0.79818, Test loss 0.6445163821697235, Test accuracy 0.7767, NoLabel Accuracy 45.45\n",
      "Epoch 9, Train loss 0.5449702680659294, Train accuracy 0.81236, Test loss 0.6579202128052711, Test accuracy 0.7776, NoLabel Accuracy 40.75\n",
      "Epoch 10, Train loss 0.5274680589437485, Train accuracy 0.8159, Test loss 0.5718300176024437, Test accuracy 0.8066, NoLabel Accuracy 45.69\n",
      "Epoch 11, Train loss 0.4985662501525879, Train accuracy 0.82592, Test loss 0.5657376887559891, Test accuracy 0.8079, NoLabel Accuracy 48.870000000000005\n",
      "Epoch 12, Train loss 0.47443469311118125, Train accuracy 0.83582, Test loss 0.5632015392065048, Test accuracy 0.8084, NoLabel Accuracy 46.6\n",
      "Epoch 13, Train loss 0.45703014152288435, Train accuracy 0.84052, Test loss 0.5654279923379422, Test accuracy 0.8092, NoLabel Accuracy 48.85\n",
      "Epoch 14, Train loss 0.4362173969078064, Train accuracy 0.8491, Test loss 0.5220353974461556, Test accuracy 0.8257, NoLabel Accuracy 50.44\n",
      "Epoch 15, Train loss 0.4160895113795996, Train accuracy 0.8546, Test loss 0.5670471617817878, Test accuracy 0.8082, NoLabel Accuracy 49.09\n",
      "Epoch 16, Train loss 0.40798100676357746, Train accuracy 0.8587, Test loss 0.5184087174713612, Test accuracy 0.8282, NoLabel Accuracy 50.32\n",
      "Epoch 17, Train loss 0.38880334553897383, Train accuracy 0.86464, Test loss 0.5005707773327828, Test accuracy 0.8287, NoLabel Accuracy 47.21\n",
      "Epoch 18, Train loss 0.3745120352858305, Train accuracy 0.87084, Test loss 0.4803273251593113, Test accuracy 0.8398, NoLabel Accuracy 48.94\n",
      "Epoch 19, Train loss 0.36028610295176505, Train accuracy 0.87342, Test loss 0.507972255641222, Test accuracy 0.8315, NoLabel Accuracy 49.76\n",
      "Epoch 20, Train loss 0.3497142912572622, Train accuracy 0.87758, Test loss 0.4499871678709984, Test accuracy 0.8517, NoLabel Accuracy 53.68000000000001\n",
      "Epoch 21, Train loss 0.3335770726078749, Train accuracy 0.88486, Test loss 0.45198090255856516, Test accuracy 0.8501, NoLabel Accuracy 53.21\n",
      "Epoch 22, Train loss 0.322429395595789, Train accuracy 0.88634, Test loss 0.45899347985386846, Test accuracy 0.8446, NoLabel Accuracy 54.0\n",
      "Epoch 23, Train loss 0.31269431653410196, Train accuracy 0.89018, Test loss 0.4456697785943747, Test accuracy 0.8498, NoLabel Accuracy 52.64\n",
      "Epoch 24, Train loss 0.3030749848395586, Train accuracy 0.89318, Test loss 0.4614305145442486, Test accuracy 0.8495, NoLabel Accuracy 52.96999999999999\n",
      "Epoch 25, Train loss 0.29022502734482286, Train accuracy 0.8975, Test loss 0.4573403076648712, Test accuracy 0.8487, NoLabel Accuracy 52.459999999999994\n",
      "Epoch 26, Train loss 0.283657560082674, Train accuracy 0.901, Test loss 0.42907574498951434, Test accuracy 0.8603, NoLabel Accuracy 55.44\n",
      "Epoch 27, Train loss 0.2726796293652058, Train accuracy 0.90508, Test loss 0.4192110553309321, Test accuracy 0.8619, NoLabel Accuracy 55.769999999999996\n",
      "Epoch 28, Train loss 0.2641718540802598, Train accuracy 0.90782, Test loss 0.44235115008056164, Test accuracy 0.8552, NoLabel Accuracy 53.339999999999996\n",
      "Epoch 29, Train loss 0.24958603388398887, Train accuracy 0.91146, Test loss 0.41934661067724227, Test accuracy 0.8616, NoLabel Accuracy 51.459999999999994\n",
      "Epoch 30, Train loss 0.2469574574407935, Train accuracy 0.91274, Test loss 0.43635995832383634, Test accuracy 0.8558, NoLabel Accuracy 52.33\n",
      "Epoch 31, Train loss 0.23779281569600105, Train accuracy 0.91778, Test loss 0.43050874363482, Test accuracy 0.8557, NoLabel Accuracy 53.6\n",
      "Epoch 32, Train loss 0.2292194628391415, Train accuracy 0.9195, Test loss 0.4057857525393367, Test accuracy 0.8646, NoLabel Accuracy 54.35\n",
      "Epoch 33, Train loss 0.22133019650708885, Train accuracy 0.92218, Test loss 0.39317816500514746, Test accuracy 0.8694, NoLabel Accuracy 56.82000000000001\n",
      "Epoch 34, Train loss 0.21131700300335884, Train accuracy 0.925, Test loss 0.4045492551088333, Test accuracy 0.8713, NoLabel Accuracy 56.00000000000001\n",
      "Epoch 35, Train loss 0.20280368482761085, Train accuracy 0.92898, Test loss 0.4001813688233495, Test accuracy 0.8659, NoLabel Accuracy 56.66\n",
      "Epoch 36, Train loss 0.19795199086487295, Train accuracy 0.92934, Test loss 0.3875773511737585, Test accuracy 0.8736, NoLabel Accuracy 56.720000000000006\n",
      "Epoch 37, Train loss 0.19136814153894782, Train accuracy 0.93328, Test loss 0.40164287349283695, Test accuracy 0.8699, NoLabel Accuracy 56.88999999999999\n",
      "Epoch 38, Train loss 0.18078936842478813, Train accuracy 0.93656, Test loss 0.3980545503363013, Test accuracy 0.8709, NoLabel Accuracy 55.34\n",
      "Epoch 39, Train loss 0.1762613302589953, Train accuracy 0.93902, Test loss 0.38579977177381514, Test accuracy 0.8755, NoLabel Accuracy 55.779999999999994\n",
      "Epoch 40, Train loss 0.16939530287876725, Train accuracy 0.94044, Test loss 0.397768667177856, Test accuracy 0.8697, NoLabel Accuracy 55.269999999999996\n",
      "Epoch 41, Train loss 0.16668343320444226, Train accuracy 0.94134, Test loss 0.38964408542886375, Test accuracy 0.8741, NoLabel Accuracy 55.75\n",
      "Epoch 42, Train loss 0.16011176820661874, Train accuracy 0.94454, Test loss 0.38756698313578963, Test accuracy 0.8736, NoLabel Accuracy 54.36\n",
      "Epoch 43, Train loss 0.15396924899458886, Train accuracy 0.94588, Test loss 0.38111162870526316, Test accuracy 0.8756, NoLabel Accuracy 56.54\n",
      "Epoch 44, Train loss 0.14712750981446357, Train accuracy 0.94794, Test loss 0.3846097068145871, Test accuracy 0.8777, NoLabel Accuracy 55.94\n",
      "Epoch 45, Train loss 0.14395980868637562, Train accuracy 0.94946, Test loss 0.37511624975204466, Test accuracy 0.8776, NoLabel Accuracy 55.19\n",
      "Epoch 46, Train loss 0.1410141050895676, Train accuracy 0.95124, Test loss 0.36263283863365653, Test accuracy 0.8823, NoLabel Accuracy 56.489999999999995\n",
      "Epoch 47, Train loss 0.13488670786011964, Train accuracy 0.95336, Test loss 0.37289379360228775, Test accuracy 0.8795, NoLabel Accuracy 55.87\n",
      "Epoch 48, Train loss 0.13136343899350614, Train accuracy 0.954, Test loss 0.3748378746725619, Test accuracy 0.8789, NoLabel Accuracy 55.669999999999995\n",
      "Epoch 49, Train loss 0.1308792077526264, Train accuracy 0.95426, Test loss 0.3734875489644706, Test accuracy 0.8799, NoLabel Accuracy 55.410000000000004\n",
      "Epoch 50, Train loss 0.12566706750977785, Train accuracy 0.95676, Test loss 0.37194543466791513, Test accuracy 0.8821, NoLabel Accuracy 56.89999999999999\n",
      "Epoch 51, Train loss 0.12422420908432454, Train accuracy 0.95728, Test loss 0.37819664292261007, Test accuracy 0.8776, NoLabel Accuracy 56.43\n",
      "Epoch 52, Train loss 0.12539945043623446, Train accuracy 0.9577, Test loss 0.37442457415908575, Test accuracy 0.8824, NoLabel Accuracy 56.42\n",
      "Epoch 53, Train loss 0.12033280499543994, Train accuracy 0.95804, Test loss 0.3682648988887668, Test accuracy 0.8821, NoLabel Accuracy 56.42\n",
      "Epoch 54, Train loss 0.12072094284471124, Train accuracy 0.95826, Test loss 0.3634823924150318, Test accuracy 0.884, NoLabel Accuracy 56.18\n",
      "Epoch 55, Train loss 0.11805840330667794, Train accuracy 0.95942, Test loss 0.37241467096805575, Test accuracy 0.8809, NoLabel Accuracy 56.46\n",
      "Epoch 56, Train loss 0.11670963669043034, Train accuracy 0.95898, Test loss 0.3693078789971769, Test accuracy 0.8838, NoLabel Accuracy 56.57\n",
      "Epoch 57, Train loss 0.11667076341520995, Train accuracy 0.96014, Test loss 0.35885330810397864, Test accuracy 0.8843, NoLabel Accuracy 56.720000000000006\n",
      "Epoch 58, Train loss 0.11490545755714178, Train accuracy 0.96076, Test loss 0.3722071375776082, Test accuracy 0.8824, NoLabel Accuracy 56.64\n",
      "Epoch 59, Train loss 0.11323038229238241, Train accuracy 0.96176, Test loss 0.36542561520338057, Test accuracy 0.8844, NoLabel Accuracy 56.65\n"
     ]
    }
   ],
   "source": [
    "# Print a message to indicate the start of the training loop\n",
    "print(\"Beginning training arc now!~~~ \\n\")\n",
    "\n",
    "for epoch in range(num_epochs):\n",
    "    train_loss = 0.0\n",
    "    test_loss = 0.0\n",
    "    train_acc = 0.0\n",
    "    test_acc = 0.0\n",
    "\n",
    "    model.train()\n",
    "    for i, data in enumerate(trainDataLoader):\n",
    "        images, labels = data\n",
    "        images = images.cuda()\n",
    "        labels = labels.cuda()\n",
    "        optimizer.zero_grad() # zero out any gradient values from the previous iteration\n",
    "        predicted_output = model(images) # forward propagation\n",
    "        fit = loss(predicted_output, labels)  # calculate our measure of goodness\n",
    "        fit.backward() # backpropagation\n",
    "        optimizer.step() # update the weights of our trainable parameters\n",
    "        train_loss += fit.item()\n",
    "        _, predicted = torch.max(predicted_output.data, 1)\n",
    "        train_acc += (predicted == labels).sum().item()\n",
    "        \n",
    "    scheduler.step()\n",
    "    for i, data in  enumerate(testDataLoader):\n",
    "        with torch.no_grad():\n",
    "            images, labels = data\n",
    "            images = images.cuda()\n",
    "            labels = labels.cuda()\n",
    "            predicted_output = model(images)\n",
    "            fit = loss(predicted_output, labels)\n",
    "            test_loss += fit.item()\n",
    "            _, predicted = torch.max(predicted_output.data, 1)\n",
    "            matches += (predicted == labels).sum().item()\n",
    "            total += labels.size(0)\n",
    "            test_acc += (predicted == labels).sum().item()\n",
    "    train_loss = train_loss / len(trainDataLoader)\n",
    "    test_loss = test_loss / len(testDataLoader)\n",
    "    train_acc = train_acc / len(trainDataLoader.dataset)\n",
    "    test_acc = test_acc / len(testDataLoader.dataset)\n",
    "    train_loss_history += [train_loss]\n",
    "    test_loss_history += [test_loss]\n",
    "    train_accuracy_history += [train_acc]\n",
    "    test_accuracy_history += [test_acc]\n",
    "\n",
    "    predictions = []\n",
    "    # model.eval()\n",
    "    # Saving the best model if it exceeds the previous best accuracy\n",
    "    for image in kaggleLoader:\n",
    "        image = image.cuda()\n",
    "        with torch.no_grad():\n",
    "            output = model(image)\n",
    "        predictions.append(output.argmax().item())\n",
    "    curr_acc = calculate_accuracy(predictions)\n",
    "    if curr_acc > best_kagg_acc:\n",
    "        best_kagg_acc = curr_acc\n",
    "        torch.save(model.state_dict(), 'best_resnet9_model.pth')\n",
    "    no_label_accuracy_history += [curr_acc]\n",
    "    \n",
    "    print(f'Epoch {epoch}, Train loss {train_loss}, Train accuracy {train_acc}, Test loss {test_loss}, Test accuracy {test_acc}, NoLabel Accuracy {curr_acc}')\n",
    "    "
   ]
  },
  {
   "cell_type": "code",
   "execution_count": 29,
   "id": "9b519d3b-9c3e-4644-8f7f-9cc97332249d",
   "metadata": {},
   "outputs": [],
   "source": [
    "# No time to implement the model checkppoint code as it is not asked in the initial requirement\n",
    "\n",
    "# Define the checkpoint directory\n",
    "# checkpoint_dir = \"checkpoints\"\n",
    "# os.makedirs(checkpoint_dir, exist_ok=True)\n",
    "\n",
    "# # Training loop\n",
    "# for epoch in range(num_epochs):\n",
    "#     # Training code here...\n",
    "\n",
    "#     # Save a checkpoint\n",
    "#     checkpoint = {\n",
    "#         \"epoch\": epoch,\n",
    "#         \"model_state_dict\": model.state_dict(),\n",
    "#         \"optimizer_state_dict\": optimizer.state_dict(),\n",
    "#         \"loss\": loss,\n",
    "#     }\n",
    "#     torch.save(checkpoint, os.path.join(checkpoint_dir, f\"checkpoint_{epoch}.pth\"))"
   ]
  },
  {
   "cell_type": "code",
   "execution_count": 17,
   "id": "60cc6d85-95f6-40dd-87d0-7aa91fb8368c",
   "metadata": {},
   "outputs": [
    {
     "data": {
      "text/plain": [
       "ResNet(\n",
       "  (conv1): Conv2d(3, 64, kernel_size=(3, 3), stride=(1, 1), padding=(1, 1), bias=False)\n",
       "  (bn1): BatchNorm2d(64, eps=1e-05, momentum=0.1, affine=True, track_running_stats=True)\n",
       "  (layer1): Sequential(\n",
       "    (0): BasicBlock(\n",
       "      (conv1): Conv2d(64, 64, kernel_size=(3, 3), stride=(1, 1), padding=(1, 1), bias=False)\n",
       "      (bn1): BatchNorm2d(64, eps=1e-05, momentum=0.1, affine=True, track_running_stats=True)\n",
       "      (dropout1): Dropout2d(p=0.3, inplace=False)\n",
       "      (conv2): Conv2d(64, 64, kernel_size=(3, 3), stride=(1, 1), padding=(1, 1), bias=False)\n",
       "      (bn2): BatchNorm2d(64, eps=1e-05, momentum=0.1, affine=True, track_running_stats=True)\n",
       "      (dropout2): Dropout2d(p=0.3, inplace=False)\n",
       "      (shortcut): Sequential()\n",
       "    )\n",
       "  )\n",
       "  (layer2): Sequential(\n",
       "    (0): BasicBlock(\n",
       "      (conv1): Conv2d(64, 128, kernel_size=(3, 3), stride=(2, 2), padding=(1, 1), bias=False)\n",
       "      (bn1): BatchNorm2d(128, eps=1e-05, momentum=0.1, affine=True, track_running_stats=True)\n",
       "      (dropout1): Dropout2d(p=0.3, inplace=False)\n",
       "      (conv2): Conv2d(128, 128, kernel_size=(3, 3), stride=(1, 1), padding=(1, 1), bias=False)\n",
       "      (bn2): BatchNorm2d(128, eps=1e-05, momentum=0.1, affine=True, track_running_stats=True)\n",
       "      (dropout2): Dropout2d(p=0.3, inplace=False)\n",
       "      (shortcut): Sequential(\n",
       "        (0): Conv2d(64, 128, kernel_size=(1, 1), stride=(2, 2), bias=False)\n",
       "        (1): BatchNorm2d(128, eps=1e-05, momentum=0.1, affine=True, track_running_stats=True)\n",
       "      )\n",
       "    )\n",
       "  )\n",
       "  (layer3): Sequential(\n",
       "    (0): BasicBlock(\n",
       "      (conv1): Conv2d(128, 256, kernel_size=(3, 3), stride=(2, 2), padding=(1, 1), bias=False)\n",
       "      (bn1): BatchNorm2d(256, eps=1e-05, momentum=0.1, affine=True, track_running_stats=True)\n",
       "      (dropout1): Dropout2d(p=0.3, inplace=False)\n",
       "      (conv2): Conv2d(256, 256, kernel_size=(3, 3), stride=(1, 1), padding=(1, 1), bias=False)\n",
       "      (bn2): BatchNorm2d(256, eps=1e-05, momentum=0.1, affine=True, track_running_stats=True)\n",
       "      (dropout2): Dropout2d(p=0.3, inplace=False)\n",
       "      (shortcut): Sequential(\n",
       "        (0): Conv2d(128, 256, kernel_size=(1, 1), stride=(2, 2), bias=False)\n",
       "        (1): BatchNorm2d(256, eps=1e-05, momentum=0.1, affine=True, track_running_stats=True)\n",
       "      )\n",
       "    )\n",
       "  )\n",
       "  (layer4): Sequential(\n",
       "    (0): BasicBlock(\n",
       "      (conv1): Conv2d(256, 512, kernel_size=(3, 3), stride=(2, 2), padding=(1, 1), bias=False)\n",
       "      (bn1): BatchNorm2d(512, eps=1e-05, momentum=0.1, affine=True, track_running_stats=True)\n",
       "      (dropout1): Dropout2d(p=0.3, inplace=False)\n",
       "      (conv2): Conv2d(512, 512, kernel_size=(3, 3), stride=(1, 1), padding=(1, 1), bias=False)\n",
       "      (bn2): BatchNorm2d(512, eps=1e-05, momentum=0.1, affine=True, track_running_stats=True)\n",
       "      (dropout2): Dropout2d(p=0.3, inplace=False)\n",
       "      (shortcut): Sequential(\n",
       "        (0): Conv2d(256, 512, kernel_size=(1, 1), stride=(2, 2), bias=False)\n",
       "        (1): BatchNorm2d(512, eps=1e-05, momentum=0.1, affine=True, track_running_stats=True)\n",
       "      )\n",
       "    )\n",
       "  )\n",
       "  (linear): Linear(in_features=512, out_features=10, bias=True)\n",
       ")"
      ]
     },
     "execution_count": 17,
     "metadata": {},
     "output_type": "execute_result"
    }
   ],
   "source": [
    "model.eval()"
   ]
  },
  {
   "cell_type": "code",
   "execution_count": 18,
   "id": "158f7f4b-eee5-4d60-a7c9-95aac1932194",
   "metadata": {},
   "outputs": [],
   "source": [
    "predictions = []\n",
    "# model.eval()\n",
    "for image in kaggleLoader:\n",
    "    image = image.cuda()\n",
    "    with torch.no_grad():\n",
    "        output = model(image)\n",
    "    predictions.append(output.argmax().item())\n",
    "curr_acc = calculate_accuracy(predictions)"
   ]
  },
  {
   "cell_type": "code",
   "execution_count": 19,
   "id": "c4557c83-10c5-4edc-89b5-d9da92aaa383",
   "metadata": {},
   "outputs": [
    {
     "name": "stdout",
     "output_type": "stream",
     "text": [
      "finished round 0.004 with ACC of 66.22\n",
      "done\n"
     ]
    }
   ],
   "source": [
    "torch.save(model.state_dict(), 'learn_rate_consistent_model.pth')\n",
    "name_file = \"learn_rate_const_lr_\" + str(learn_rate) + \".txt\"\n",
    "with open(name_file, 'w') as file:\n",
    "    for row in [train_loss_history, test_loss_history]:\n",
    "        file.write('\\t'.join(map(str, row)) + '\\n')\n",
    "print(\"finished round \" + str(learn_rate) + \" with ACC of \" + str(curr_acc))\n",
    "print(\"done\")"
   ]
  },
  {
   "cell_type": "code",
   "execution_count": 20,
   "id": "82bc816a-a991-46d6-973d-682489c05ac8",
   "metadata": {},
   "outputs": [
    {
     "data": {
      "image/png": "[encoded data removed]",
      "text/plain": [
       "<Figure size 640x480 with 1 Axes>"
      ]
     },
     "metadata": {},
     "output_type": "display_data"
    }
   ],
   "source": [
    "plt.plot(range(len(train_loss_history)),train_loss_history,'-',linewidth=3,label='Train error')\n",
    "plt.plot(range(len(test_loss_history)),test_loss_history,'-',linewidth=3,label='Test error')\n",
    "plt.xlabel('epoch')\n",
    "plt.ylabel('loss')\n",
    "plt.grid(True)\n",
    "plt.legend()\n",
    "plt.show()\n"
   ]
  },
  {
   "cell_type": "code",
   "execution_count": 21,
   "id": "23eb2b99-4ddf-4839-b2ab-91147420b8be",
   "metadata": {},
   "outputs": [
    {
     "data": {
      "image/png": "[encoded data removed]",
      "text/plain": [
       "<Figure size 640x480 with 1 Axes>"
      ]
     },
     "metadata": {},
     "output_type": "display_data"
    }
   ],
   "source": [
    "plt.plot(range(len(train_accuracy_history)),train_accuracy_history,'-',linewidth=3,label='Train Accuracy')\n",
    "plt.plot(range(len(test_accuracy_history)),test_accuracy_history,'-',linewidth=3,label='Test Accuracy')\n",
    "plt.xlabel('Epoch')\n",
    "plt.ylabel('Accuracy')\n",
    "plt.grid(True)\n",
    "plt.legend()\n",
    "plt.show()"
   ]
  },
  {
   "cell_type": "code",
   "execution_count": 32,
   "id": "1ae94ab5-4e04-404e-b74c-8ca9f74372df",
   "metadata": {},
   "outputs": [
    {
     "data": {
      "text/plain": [
       "<All keys matched successfully>"
      ]
     },
     "execution_count": 32,
     "metadata": {},
     "output_type": "execute_result"
    }
   ],
   "source": [
    "model.load_state_dict(torch.load('learn_rate_consistent_model.pth'))"
   ]
  },
  {
   "cell_type": "code",
   "execution_count": 33,
   "id": "1a6c047c-686c-48de-91b5-fdfdff90c280",
   "metadata": {},
   "outputs": [
    {
     "name": "stdout",
     "output_type": "stream",
     "text": [
      "Accuracy of the network on the test images: 92 %\n"
     ]
    }
   ],
   "source": [
    "correct = 0\n",
    "total = 0\n",
    "model.eval()\n",
    "for data in testDataLoader:\n",
    "    images, labels = data\n",
    "    images = images.cuda()\n",
    "    labels = labels.cuda()\n",
    "    with torch.no_grad():\n",
    "        predicted_output = model(images)\n",
    "        _, predicted = torch.max(predicted_output.data, 1)\n",
    "        total += labels.size(0)\n",
    "        correct += (predicted == labels).sum().item()\n",
    "\n",
    "accuracy = correct / total\n",
    "print('Accuracy of the network on the test images: %d %%' % (100 * accuracy))"
   ]
  },
  {
   "cell_type": "code",
   "execution_count": 22,
   "id": "fa36e4cc-451f-4226-bc71-188ad941a5cc",
   "metadata": {},
   "outputs": [],
   "source": [
    "def count_parameters(model):\n",
    "    \"\"\"\n",
    "    Counts the number of trainable and non-trainable parameters in a PyTorch model.\n",
    "    \"\"\"\n",
    "    total_params = sum(p.numel() for p in model.parameters())\n",
    "    trainable_params = sum(p.numel() for p in model.parameters() if p.requires_grad)\n",
    "    non_trainable_params = total_params - trainable_params\n",
    "    \n",
    "    print(f\"Total parameters: {total_params}\")\n",
    "    print(f\"Trainable parameters: {trainable_params}\")\n",
    "    print(f\"Non-trainable parameters: {non_trainable_params}\")"
   ]
  },
  {
   "cell_type": "code",
   "execution_count": 28,
   "id": "621ee206-86c1-45aa-b1b1-612d2d751bba",
   "metadata": {},
   "outputs": [
    {
     "name": "stdout",
     "output_type": "stream",
     "text": [
      "Total parameters: 4903242\n",
      "Trainable parameters: 4903242\n",
      "Non-trainable parameters: 0\n"
     ]
    }
   ],
   "source": [
    "count_parameters(model)"
   ]
  },
  {
   "cell_type": "code",
   "execution_count": 34,
   "id": "c30d44d9-2f46-4367-8dd4-34368ffc27dd",
   "metadata": {},
   "outputs": [
    {
     "name": "stdout",
     "output_type": "stream",
     "text": [
      "Defaulting to user installation because normal site-packages is not writeable\n",
      "Requirement already satisfied: nbconvert in /share/apps/anaconda3/2024.02/lib/python3.11/site-packages (7.10.0)\n",
      "Requirement already satisfied: beautifulsoup4 in /share/apps/anaconda3/2024.02/lib/python3.11/site-packages (from nbconvert) (4.12.2)\n",
      "Requirement already satisfied: bleach!=5.0.0 in /share/apps/anaconda3/2024.02/lib/python3.11/site-packages (from nbconvert) (4.1.0)\n",
      "Requirement already satisfied: defusedxml in /share/apps/anaconda3/2024.02/lib/python3.11/site-packages (from nbconvert) (0.7.1)\n",
      "Requirement already satisfied: jinja2>=3.0 in /share/apps/anaconda3/2024.02/lib/python3.11/site-packages (from nbconvert) (3.1.3)\n",
      "Requirement already satisfied: jupyter-core>=4.7 in /share/apps/anaconda3/2024.02/lib/python3.11/site-packages (from nbconvert) (5.5.0)\n",
      "Requirement already satisfied: jupyterlab-pygments in /share/apps/anaconda3/2024.02/lib/python3.11/site-packages (from nbconvert) (0.1.2)\n",
      "Requirement already satisfied: markupsafe>=2.0 in /share/apps/anaconda3/2024.02/lib/python3.11/site-packages (from nbconvert) (2.1.3)\n",
      "Requirement already satisfied: mistune<4,>=2.0.3 in /share/apps/anaconda3/2024.02/lib/python3.11/site-packages (from nbconvert) (2.0.4)\n",
      "Requirement already satisfied: nbclient>=0.5.0 in /share/apps/anaconda3/2024.02/lib/python3.11/site-packages (from nbconvert) (0.8.0)\n",
      "Requirement already satisfied: nbformat>=5.7 in /share/apps/anaconda3/2024.02/lib/python3.11/site-packages (from nbconvert) (5.9.2)\n",
      "Requirement already satisfied: packaging in /share/apps/anaconda3/2024.02/lib/python3.11/site-packages (from nbconvert) (23.1)\n",
      "Requirement already satisfied: pandocfilters>=1.4.1 in /share/apps/anaconda3/2024.02/lib/python3.11/site-packages (from nbconvert) (1.5.0)\n",
      "Requirement already satisfied: pygments>=2.4.1 in /share/apps/anaconda3/2024.02/lib/python3.11/site-packages (from nbconvert) (2.15.1)\n",
      "Requirement already satisfied: tinycss2 in /share/apps/anaconda3/2024.02/lib/python3.11/site-packages (from nbconvert) (1.2.1)\n",
      "Requirement already satisfied: traitlets>=5.1 in /share/apps/anaconda3/2024.02/lib/python3.11/site-packages (from nbconvert) (5.7.1)\n",
      "Requirement already satisfied: six>=1.9.0 in /share/apps/anaconda3/2024.02/lib/python3.11/site-packages (from bleach!=5.0.0->nbconvert) (1.16.0)\n",
      "Requirement already satisfied: webencodings in /share/apps/anaconda3/2024.02/lib/python3.11/site-packages (from bleach!=5.0.0->nbconvert) (0.5.1)\n",
      "Requirement already satisfied: platformdirs>=2.5 in /share/apps/anaconda3/2024.02/lib/python3.11/site-packages (from jupyter-core>=4.7->nbconvert) (3.10.0)\n",
      "Requirement already satisfied: jupyter-client>=6.1.12 in /share/apps/anaconda3/2024.02/lib/python3.11/site-packages (from nbclient>=0.5.0->nbconvert) (8.6.0)\n",
      "Requirement already satisfied: fastjsonschema in /share/apps/anaconda3/2024.02/lib/python3.11/site-packages (from nbformat>=5.7->nbconvert) (2.16.2)\n",
      "Requirement already satisfied: jsonschema>=2.6 in /share/apps/anaconda3/2024.02/lib/python3.11/site-packages (from nbformat>=5.7->nbconvert) (4.19.2)\n",
      "Requirement already satisfied: soupsieve>1.2 in /share/apps/anaconda3/2024.02/lib/python3.11/site-packages (from beautifulsoup4->nbconvert) (2.5)\n",
      "Requirement already satisfied: attrs>=22.2.0 in /share/apps/anaconda3/2024.02/lib/python3.11/site-packages (from jsonschema>=2.6->nbformat>=5.7->nbconvert) (23.1.0)\n",
      "Requirement already satisfied: jsonschema-specifications>=2023.03.6 in /share/apps/anaconda3/2024.02/lib/python3.11/site-packages (from jsonschema>=2.6->nbformat>=5.7->nbconvert) (2023.7.1)\n",
      "Requirement already satisfied: referencing>=0.28.4 in /share/apps/anaconda3/2024.02/lib/python3.11/site-packages (from jsonschema>=2.6->nbformat>=5.7->nbconvert) (0.30.2)\n",
      "Requirement already satisfied: rpds-py>=0.7.1 in /share/apps/anaconda3/2024.02/lib/python3.11/site-packages (from jsonschema>=2.6->nbformat>=5.7->nbconvert) (0.10.6)\n",
      "Requirement already satisfied: python-dateutil>=2.8.2 in /share/apps/anaconda3/2024.02/lib/python3.11/site-packages (from jupyter-client>=6.1.12->nbclient>=0.5.0->nbconvert) (2.8.2)\n",
      "Requirement already satisfied: pyzmq>=23.0 in /share/apps/anaconda3/2024.02/lib/python3.11/site-packages (from jupyter-client>=6.1.12->nbclient>=0.5.0->nbconvert) (25.1.2)\n",
      "Requirement already satisfied: tornado>=6.2 in /share/apps/anaconda3/2024.02/lib/python3.11/site-packages (from jupyter-client>=6.1.12->nbclient>=0.5.0->nbconvert) (6.3.3)\n",
      "Note: you may need to restart the kernel to use updated packages.\n"
     ]
    }
   ],
   "source": [
    "pip install nbconvert"
   ]
  },
  {
   "cell_type": "code",
   "execution_count": null,
   "id": "01d538c0-c22b-42a7-9e15-9c556a60e99c",
   "metadata": {},
   "outputs": [],
   "source": []
  }
 ],
 "metadata": {
  "kernelspec": {
   "display_name": "Python 3 (ipykernel)",
   "language": "python",
   "name": "python3"
  },
  "language_info": {
   "codemirror_mode": {
    "name": "ipython",
    "version": 3
   },
   "file_extension": ".py",
   "mimetype": "text/x-python",
   "name": "python",
   "nbconvert_exporter": "python",
   "pygments_lexer": "ipython3",
   "version": "3.11.7"
  }
 },
 "nbformat": 4,
 "nbformat_minor": 5
}
